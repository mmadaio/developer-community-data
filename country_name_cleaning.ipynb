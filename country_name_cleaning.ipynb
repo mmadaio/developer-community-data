{
 "cells": [
  {
   "cell_type": "markdown",
   "metadata": {},
   "source": [
    "Online Developer Community Survey Data\n",
    "\n",
    "By Michael A. Madaio, for the United Nations University, Institute on Computing and Society\n",
    "<br> August, 2018"
   ]
  },
  {
   "cell_type": "markdown",
   "metadata": {},
   "source": [
    "## Overview\n",
    "\n",
    "Online developer communities boast millions of users - over 29 million on GitHub and over 8 million on Stack Overflow, in 2018. Participation in these communities is becoming one of the primary ways software developers learn new programming languages, improve their skills, develop collaborative projects, and find new job opportunities. [[1]](David and Shapiro, 2008) [[2]](Ford et al., 2016) [[3]](Vasilescu et al., 2015)  \n",
    "\n",
    "Developers on these sites may ask and answer coding questions to improve their skills (e.g. Stack Overflow), use those skills to contribute to open-source code (e.g. GitHub) and participate in coding challenges (e.g. HackerRank). These platforms are becoming increasingly important to hiring decisions, as recruiters look at GitHub contributions or reputation on Stack Overflow as indicators of developers' skill.\n",
    "\n",
    "However, despite the promise for these online developer communities to support software developers in their professional development, there are indicators that there may be serious difference in women and men's participation in these communities - differences which may further exacerbate existing gender gaps in the ICT workforce writ large."
   ]
  },
  {
   "cell_type": "markdown",
   "metadata": {},
   "source": [
    "## Usage\n",
    "\n",
    "In this notebook, we provide functions for cleaning country names from surveys to standardize them with the ISO code. Many data sources use idiosyncratic country names, which makes joining with the ISO codes to use other regional data difficult. This notebook provides a process for cleaning the source data's country names using a \"fuzzy\" string matching with the ISO country names using Levenshtein distance.  \n",
    "\n",
    "If you're running this in a Jupyter interface, click on each code block and press ctrl+Enter to run the code in it.  \n",
    "\n",
    "Before each code block are text instructions that explain what those lines of code do."
   ]
  },
  {
   "cell_type": "markdown",
   "metadata": {},
   "source": [
    "## 1. Setup"
   ]
  },
  {
   "cell_type": "markdown",
   "metadata": {},
   "source": [
    "These lines hide the code blocks with a toggle button to display them."
   ]
  },
  {
   "cell_type": "raw",
   "metadata": {},
   "source": [
    "<script>\n",
    "  function code_toggle() {\n",
    "    if (code_shown){\n",
    "      $('div.input').hide('500');\n",
    "      $('#toggleButton').val('Show Code')\n",
    "    } else {\n",
    "      $('div.input').show('500');\n",
    "      $('#toggleButton').val('Hide Code')\n",
    "    }\n",
    "    code_shown = !code_shown\n",
    "  }\n",
    "\n",
    "  $( document ).ready(function(){\n",
    "    code_shown=false;\n",
    "    $('div.input').hide()\n",
    "  });\n",
    "</script>\n",
    "<form action=\"javascript:code_toggle()\"><input type=\"submit\" id=\"toggleButton\" value=\"Show Code\"></form>"
   ]
  },
  {
   "cell_type": "markdown",
   "metadata": {},
   "source": [
    "These lines import the necessary package dependencies."
   ]
  },
  {
   "cell_type": "code",
   "execution_count": 26,
   "metadata": {},
   "outputs": [
    {
     "data": {
      "text/html": [
       "<script>requirejs.config({paths: { 'plotly': ['https://cdn.plot.ly/plotly-latest.min']},});if(!window.Plotly) {{require(['plotly'],function(plotly) {window.Plotly=plotly;});}}</script>"
      ],
      "text/vnd.plotly.v1+html": [
       "<script>requirejs.config({paths: { 'plotly': ['https://cdn.plot.ly/plotly-latest.min']},});if(!window.Plotly) {{require(['plotly'],function(plotly) {window.Plotly=plotly;});}}</script>"
      ]
     },
     "metadata": {},
     "output_type": "display_data"
    }
   ],
   "source": [
    "import pandas as pd\n",
    "import numpy as np\n",
    "import os\n",
    "import csv\n",
    "import matplotlib.pyplot as plt\n",
    "import pandas.tools.plotting\n",
    "import seaborn as sns\n",
    "import matplotlib\n",
    "%matplotlib inline\n",
    "\n",
    "# Install \"fuzzywuzzy\" and \"python-Levenshtein\" using pip install\n",
    "from fuzzywuzzy import fuzz\n",
    "from fuzzywuzzy import process\n",
    "\n",
    "plt.style.use('seaborn')\n",
    "\n",
    "\n",
    "import plotly.offline as offline\n",
    "offline.init_notebook_mode(True)\n",
    "import plotly.graph_objs as go\n",
    "#plt.style.use('ggplot')\n",
    "pd.options.display.max_rows =300\n",
    "plt.rc('ytick',labelsize=12)\n",
    "plt.rc('ytick',labelsize=12)\n",
    "plt.rc('axes',labelsize=12)"
   ]
  },
  {
   "cell_type": "markdown",
   "metadata": {},
   "source": [
    "### 1.1. Load data"
   ]
  },
  {
   "cell_type": "markdown",
   "metadata": {},
   "source": [
    "Make sure the respective csv file is saved to this folder.  \n",
    "Make sure the country/region mapping csv (found [here](https://github.com/lukes/ISO-3166-Countries-with-Regional-Codes/blob/master/all/all.csv)) is saved here as well.\n",
    "\n",
    "Run this block to load the data."
   ]
  },
  {
   "cell_type": "code",
   "execution_count": 3,
   "metadata": {},
   "outputs": [],
   "source": [
    "data_folder = os.path.abspath('.\\\\data')\n",
    "\n",
    "## Load source file\n",
    "values = pd.read_csv('{0}\\survey_results_public.csv'.format(data_folder), na_values=['#NULL!', 'nan'], low_memory=False)\n",
    "\n",
    "# Load Country-Region data\n",
    "country_mapping = pd.read_csv('{0}\\Country-Region-Mapping.csv'.format(data_folder),encoding='latin-1')"
   ]
  },
  {
   "cell_type": "markdown",
   "metadata": {},
   "source": [
    "### 1.1. Preview data"
   ]
  },
  {
   "cell_type": "markdown",
   "metadata": {},
   "source": [
    "Preview column headers and sample values.   \n",
    "Uncomment the print statements by deleting the # in front of the word print to run this block and see a (lengthy) preview of the data."
   ]
  },
  {
   "cell_type": "code",
   "execution_count": 4,
   "metadata": {},
   "outputs": [
    {
     "name": "stdout",
     "output_type": "stream",
     "text": [
      "Total respondents: 98855 \n",
      "\n"
     ]
    }
   ],
   "source": [
    "## Print number of respondents\n",
    "print(\"Total respondents:\", len(values), \"\\n\")\n",
    "\n",
    "## Print example values for columns\n",
    "#print(values.head())\n",
    "\n",
    "## Print list of column names\n",
    "#print(values.columns.ravel())\n",
    "\n",
    "## Print all columns\n",
    "#values[0:3].transpose()"
   ]
  },
  {
   "cell_type": "markdown",
   "metadata": {},
   "source": [
    "### 1.2. Clean country names"
   ]
  },
  {
   "cell_type": "markdown",
   "metadata": {},
   "source": [
    "Run this block to store the function created to match country names."
   ]
  },
  {
   "cell_type": "code",
   "execution_count": 22,
   "metadata": {},
   "outputs": [],
   "source": [
    "## Fix errors in country names\n",
    "\n",
    "names_array=[]\n",
    "ratio_array=[]\n",
    "\n",
    "def match_names(wrong_names,correct_names):\n",
    "    for row in wrong_names:\n",
    "        x=process.extractOne(row, correct_names)\n",
    "        names_array.append(x[0])\n",
    "        ratio_array.append(x[1])\n",
    "    return names_array,ratio_array\n"
   ]
  },
  {
   "cell_type": "markdown",
   "metadata": {},
   "source": [
    "Run this block first to store the list of unique country names from your source data set."
   ]
  },
  {
   "cell_type": "code",
   "execution_count": 23,
   "metadata": {},
   "outputs": [],
   "source": [
    "#Store country names from source dataset\n",
    "values.loc[(values[\"Country\"]== 'Other Country (Not Listed Above)'), \"Country\"]='Not provided'\n",
    "source_names=values['Country'].dropna().unique()\n",
    "\n",
    "#Store country names from ISO dataset\n",
    "correct_names=country_mapping['name'].values"
   ]
  },
  {
   "cell_type": "markdown",
   "metadata": {},
   "source": [
    "Run this block to create a list of the name matches, with the ratio of their match (i.e. how \"close\" a match they are. Higher is a closer match)."
   ]
  },
  {
   "cell_type": "code",
   "execution_count": 24,
   "metadata": {},
   "outputs": [
    {
     "name": "stdout",
     "output_type": "stream",
     "text": [
      "You have 183 country names.\n"
     ]
    }
   ],
   "source": [
    "name_match,ratio_match=match_names(source_names,correct_names)\n",
    "\n",
    "# Check to make sure the list of unique names in the name match is the same as the list of unique countries in the source list. That is, there is at least one matched name from ISO for each country name in your source data.\n",
    "\n",
    "if len(name_match) != len(source_names):\n",
    "    print(len(name_match))\n",
    "    print(len(source_names))\n",
    "    print(\"Error: Different numbers of unique country names. Re-run code and inspect the .csv's if you continue to get this error.\")\n",
    "else:\n",
    "    print(\"You have\", len(name_match), \"country names.\")\n"
   ]
  },
  {
   "cell_type": "code",
   "execution_count": 35,
   "metadata": {},
   "outputs": [
    {
     "name": "stdout",
     "output_type": "stream",
     "text": [
      "['Kenya', 'United Kingdom of Great Britain and Northern Ireland', 'United States of America', 'South Africa', 'Nigeria', 'India', 'Spain', 'Croatia', 'Netherlands', 'Israel', 'Sweden', 'Chile', 'Australia', 'Greece', 'Poland', 'Belgium', 'Argentina', 'Germany', 'Russian Federation', 'Indonesia', 'Ireland', 'France', 'Ukraine', 'Denmark', 'Dominican Republic', 'China', 'Latvia', 'Algeria', 'Colombia', 'Japan', 'Finland', 'Romania', 'Brazil', 'Bulgaria', 'Iran (Islamic Republic of)', 'Nepal', 'Bangladesh', 'Pakistan', 'Canada', 'Jordan', 'Portugal', 'Italy', 'New Zealand', 'Turkey', 'Central African Republic', 'Viet Nam', 'Austria', 'Egypt', 'Malaysia', 'Mozambique', 'Thailand', 'Slovakia', 'Lebanon', 'Mexico', 'Hong Kong', 'Norway', 'Myanmar', 'Switzerland', \"Korea (Democratic People's Republic of)\", 'Hungary', 'Armenia', 'Kazakhstan', 'United Arab Emirates', 'Singapore', 'Qatar', 'Bosnia and Herzegovina', 'Bahrain', 'Sri Lanka', 'Cambodia', 'Serbia', 'Philippines', 'Peru', 'Botswana', 'Paraguay', 'Georgia', 'Uruguay', 'Belarus', 'Lithuania', 'Afghanistan', 'Estonia', 'Malta', 'Costa Rica', 'Ghana', 'Taiwan, Province of China', 'Morocco', 'Albania', 'Saudi Arabia', 'Slovenia', 'Uzbekistan', 'Korea (Republic of)', 'El Salvador', 'Iceland', 'Venezuela (Bolivarian Republic of)', 'Nicaragua', 'Taiwan, Province of China', 'Tunisia', 'Macedonia (the former Yugoslav Republic of)', 'Micronesia (Federated States of)', 'Madagascar', 'Rwanda', 'Yemen', 'Uganda', 'Tanzania, United Republic of', 'Cameroon', 'Cuba', 'Ethiopia', 'Oman', 'Ecuador', 'Angola', 'Moldova (Republic of)', 'Honduras', 'Azerbaijan', 'Cyprus', 'Bhutan', 'Guatemala', 'Syrian Arab Republic', 'Kuwait', 'Luxembourg', 'Jamaica', 'Zimbabwe', 'San Marino', 'Fiji', 'Liechtenstein', 'Burundi', 'Bolivia (Plurinational State of)', 'Mauritius', 'Somalia', 'Montenegro', 'Mongolia', 'Sudan', 'Maldives', 'Turkmenistan', 'Panama', 'Barbados', 'Lesotho', 'Namibia', 'Gabon', 'Kyrgyzstan', 'Swaziland', 'Antigua and Barbuda', 'Marshall Islands', 'Trinidad and Tobago', 'Senegal', 'Iraq', 'Haiti', 'Malawi', 'Benin', 'Libya', 'Tajikistan', 'Congo (Democratic Republic of the)', 'Andorra', 'Guinea', \"Côte d'Ivoire\", 'Bahamas', 'Central African Republic', 'Monaco', 'Gambia', 'Sierra Leone', 'Togo', 'Palau', 'Zambia', 'Grenada', 'Burkina Faso', 'Belize', 'Congo', 'Suriname', 'Timor-Leste', 'Dominica', 'Solomon Islands', 'Saint Lucia', 'Niger', 'Guyana', 'Nauru', 'Mauritania', 'Mali', 'Liberia', 'Brunei Darussalam', \"Korea (Democratic People's Republic of)\", 'Cabo Verde', 'Eritrea', \"Korea (Democratic People's Republic of)\", 'Djibouti', 'Guinea-Bissau'] ['Kenya' 'United Kingdom' 'United States' 'South Africa' 'Nigeria' 'India'\n",
      " 'Spain' 'Croatia' 'Netherlands' 'Israel' 'Sweden' 'Chile' 'Australia'\n",
      " 'Greece' 'Poland' 'Belgium' 'Argentina' 'Germany' 'Russian Federation'\n",
      " 'Indonesia' 'Ireland' 'France' 'Ukraine' 'Denmark' 'Dominican Republic'\n",
      " 'China' 'Latvia' 'Algeria' 'Colombia' 'Japan' 'Finland' 'Romania'\n",
      " 'Brazil' 'Bulgaria' 'Iran, Islamic Republic of...' 'Nepal' 'Bangladesh'\n",
      " 'Pakistan' 'Canada' 'Jordan' 'Portugal' 'Italy' 'New Zealand' 'Turkey'\n",
      " 'Czech Republic' 'Viet Nam' 'Austria' 'Egypt' 'Malaysia' 'Mozambique'\n",
      " 'Thailand' 'Slovakia' 'Lebanon' 'Mexico' 'Hong Kong (S.A.R.)' 'Norway'\n",
      " 'Myanmar' 'Switzerland' 'South Korea' 'Hungary' 'Armenia' 'Kazakhstan'\n",
      " 'United Arab Emirates' 'Singapore' 'Qatar' 'Bosnia and Herzegovina'\n",
      " 'Bahrain' 'Sri Lanka' 'Cambodia' 'Serbia' 'Philippines' 'Peru' 'Botswana'\n",
      " 'Paraguay' 'Georgia' 'Uruguay' 'Belarus' 'Lithuania' 'Afghanistan'\n",
      " 'Estonia' 'Malta' 'Costa Rica' 'Ghana' 'Taiwan' 'Morocco' 'Albania'\n",
      " 'Saudi Arabia' 'Slovenia' 'Uzbekistan' 'Republic of Korea' 'El Salvador'\n",
      " 'Iceland' 'Venezuela, Bolivarian Republic of...' 'Nicaragua'\n",
      " 'Not provided' 'Tunisia' 'The former Yugoslav Republic of Macedonia'\n",
      " 'Micronesia, Federated States of...' 'Madagascar' 'Rwanda' 'Yemen'\n",
      " 'Uganda' 'United Republic of Tanzania' 'Cameroon' 'Cuba' 'Ethiopia'\n",
      " 'Oman' 'Ecuador' 'Angola' 'Republic of Moldova' 'Honduras' 'Azerbaijan'\n",
      " 'Cyprus' 'Bhutan' 'Guatemala' 'Syrian Arab Republic' 'Kuwait'\n",
      " 'Luxembourg' 'Jamaica' 'Zimbabwe' 'San Marino' 'Fiji' 'Liechtenstein'\n",
      " 'Burundi' 'Bolivia' 'Mauritius' 'Somalia' 'Montenegro' 'Mongolia' 'Sudan'\n",
      " 'Maldives' 'Turkmenistan' 'Panama' 'Barbados' 'Lesotho' 'Namibia' 'Gabon'\n",
      " 'Kyrgyzstan' 'Swaziland' 'Antigua and Barbuda' 'Marshall Islands'\n",
      " 'Trinidad and Tobago' 'Senegal' 'Iraq' 'Haiti' 'Malawi' 'Benin'\n",
      " 'Libyan Arab Jamahiriya' 'Tajikistan' 'Democratic Republic of the Congo'\n",
      " 'Andorra' 'Guinea' \"Côte d'Ivoire\" 'Bahamas' 'Central African Republic'\n",
      " 'Monaco' 'Gambia' 'Sierra Leone' 'Togo' 'Palau' 'Zambia' 'Grenada'\n",
      " 'Burkina Faso' 'Belize' 'Congo, Republic of the...' 'Suriname'\n",
      " 'Timor-Leste' 'Dominica' 'Solomon Islands' 'Saint Lucia' 'Niger' 'Guyana'\n",
      " 'Nauru' 'Mauritania' 'Mali' 'Liberia' 'Brunei Darussalam' 'North Korea'\n",
      " 'Cape Verde' 'Eritrea' \"Democratic People's Republic of Korea\" 'Djibouti'\n",
      " 'Guinea-Bissau']\n"
     ]
    }
   ],
   "source": [
    "print(name_match, source_names)"
   ]
  },
  {
   "cell_type": "markdown",
   "metadata": {},
   "source": [
    "Run this block to generate a .csv file with the source names (from your data), the ISO name it was matched with, and the % match.  \n",
    "Open this file and sort by % match to fix individual errors in country names (e.g. erroneously name matching South Korea with Democratic People's Republic of Korea).  "
   ]
  },
  {
   "cell_type": "code",
   "execution_count": 32,
   "metadata": {},
   "outputs": [],
   "source": [
    "with open('{0}\\\\country_names_for_checking.csv'.format(data_folder), \"w\") as csv_file:\n",
    "        writer = csv.writer(csv_file, delimiter=',')\n",
    "        writer.writerow(['Source Names', 'ISO Names', '% Match'])\n",
    "        for i in range(0, len(source_names)):\n",
    "            writer.writerow([source_names[i],name_match[i],ratio_match[i]])"
   ]
  },
  {
   "cell_type": "markdown",
   "metadata": {},
   "source": [
    "Read fixed country names and store those in your source data frame:"
   ]
  },
  {
   "cell_type": "code",
   "execution_count": 33,
   "metadata": {},
   "outputs": [
    {
     "ename": "ValueError",
     "evalue": "array length 183 does not match index length 184",
     "output_type": "error",
     "traceback": [
      "\u001b[1;31m---------------------------------------------------------------------------\u001b[0m",
      "\u001b[1;31mValueError\u001b[0m                                Traceback (most recent call last)",
      "\u001b[1;32m<ipython-input-33-56c8afdc3ca5>\u001b[0m in \u001b[0;36m<module>\u001b[1;34m()\u001b[0m\n\u001b[0;32m      2\u001b[0m \u001b[1;33m\u001b[0m\u001b[0m\n\u001b[0;32m      3\u001b[0m \u001b[0md\u001b[0m \u001b[1;33m=\u001b[0m \u001b[1;33m{\u001b[0m\u001b[1;34m'New'\u001b[0m\u001b[1;33m:\u001b[0m\u001b[0mfixed\u001b[0m\u001b[1;33m[\u001b[0m\u001b[1;36m1\u001b[0m\u001b[1;33m]\u001b[0m\u001b[1;33m,\u001b[0m\u001b[1;34m'Old'\u001b[0m\u001b[1;33m:\u001b[0m\u001b[0msource_names\u001b[0m\u001b[1;33m}\u001b[0m\u001b[1;33m\u001b[0m\u001b[0m\n\u001b[1;32m----> 4\u001b[1;33m \u001b[0mcross_ref\u001b[0m \u001b[1;33m=\u001b[0m\u001b[0mpd\u001b[0m\u001b[1;33m.\u001b[0m\u001b[0mDataFrame\u001b[0m\u001b[1;33m(\u001b[0m\u001b[0md\u001b[0m\u001b[1;33m)\u001b[0m\u001b[1;33m\u001b[0m\u001b[0m\n\u001b[0m\u001b[0;32m      5\u001b[0m \u001b[1;33m\u001b[0m\u001b[0m\n\u001b[0;32m      6\u001b[0m \u001b[0mcross_ref\u001b[0m\u001b[1;33m.\u001b[0m\u001b[0mhead\u001b[0m\u001b[1;33m(\u001b[0m\u001b[1;33m)\u001b[0m\u001b[1;33m\u001b[0m\u001b[0m\n",
      "\u001b[1;32m~\\AppData\\Local\\Continuum\\anaconda3\\lib\\site-packages\\pandas\\core\\frame.py\u001b[0m in \u001b[0;36m__init__\u001b[1;34m(self, data, index, columns, dtype, copy)\u001b[0m\n\u001b[0;32m    346\u001b[0m                                  dtype=dtype, copy=copy)\n\u001b[0;32m    347\u001b[0m         \u001b[1;32melif\u001b[0m \u001b[0misinstance\u001b[0m\u001b[1;33m(\u001b[0m\u001b[0mdata\u001b[0m\u001b[1;33m,\u001b[0m \u001b[0mdict\u001b[0m\u001b[1;33m)\u001b[0m\u001b[1;33m:\u001b[0m\u001b[1;33m\u001b[0m\u001b[0m\n\u001b[1;32m--> 348\u001b[1;33m             \u001b[0mmgr\u001b[0m \u001b[1;33m=\u001b[0m \u001b[0mself\u001b[0m\u001b[1;33m.\u001b[0m\u001b[0m_init_dict\u001b[0m\u001b[1;33m(\u001b[0m\u001b[0mdata\u001b[0m\u001b[1;33m,\u001b[0m \u001b[0mindex\u001b[0m\u001b[1;33m,\u001b[0m \u001b[0mcolumns\u001b[0m\u001b[1;33m,\u001b[0m \u001b[0mdtype\u001b[0m\u001b[1;33m=\u001b[0m\u001b[0mdtype\u001b[0m\u001b[1;33m)\u001b[0m\u001b[1;33m\u001b[0m\u001b[0m\n\u001b[0m\u001b[0;32m    349\u001b[0m         \u001b[1;32melif\u001b[0m \u001b[0misinstance\u001b[0m\u001b[1;33m(\u001b[0m\u001b[0mdata\u001b[0m\u001b[1;33m,\u001b[0m \u001b[0mma\u001b[0m\u001b[1;33m.\u001b[0m\u001b[0mMaskedArray\u001b[0m\u001b[1;33m)\u001b[0m\u001b[1;33m:\u001b[0m\u001b[1;33m\u001b[0m\u001b[0m\n\u001b[0;32m    350\u001b[0m             \u001b[1;32mimport\u001b[0m \u001b[0mnumpy\u001b[0m\u001b[1;33m.\u001b[0m\u001b[0mma\u001b[0m\u001b[1;33m.\u001b[0m\u001b[0mmrecords\u001b[0m \u001b[1;32mas\u001b[0m \u001b[0mmrecords\u001b[0m\u001b[1;33m\u001b[0m\u001b[0m\n",
      "\u001b[1;32m~\\AppData\\Local\\Continuum\\anaconda3\\lib\\site-packages\\pandas\\core\\frame.py\u001b[0m in \u001b[0;36m_init_dict\u001b[1;34m(self, data, index, columns, dtype)\u001b[0m\n\u001b[0;32m    457\u001b[0m             \u001b[0marrays\u001b[0m \u001b[1;33m=\u001b[0m \u001b[1;33m[\u001b[0m\u001b[0mdata\u001b[0m\u001b[1;33m[\u001b[0m\u001b[0mk\u001b[0m\u001b[1;33m]\u001b[0m \u001b[1;32mfor\u001b[0m \u001b[0mk\u001b[0m \u001b[1;32min\u001b[0m \u001b[0mkeys\u001b[0m\u001b[1;33m]\u001b[0m\u001b[1;33m\u001b[0m\u001b[0m\n\u001b[0;32m    458\u001b[0m \u001b[1;33m\u001b[0m\u001b[0m\n\u001b[1;32m--> 459\u001b[1;33m         \u001b[1;32mreturn\u001b[0m \u001b[0m_arrays_to_mgr\u001b[0m\u001b[1;33m(\u001b[0m\u001b[0marrays\u001b[0m\u001b[1;33m,\u001b[0m \u001b[0mdata_names\u001b[0m\u001b[1;33m,\u001b[0m \u001b[0mindex\u001b[0m\u001b[1;33m,\u001b[0m \u001b[0mcolumns\u001b[0m\u001b[1;33m,\u001b[0m \u001b[0mdtype\u001b[0m\u001b[1;33m=\u001b[0m\u001b[0mdtype\u001b[0m\u001b[1;33m)\u001b[0m\u001b[1;33m\u001b[0m\u001b[0m\n\u001b[0m\u001b[0;32m    460\u001b[0m \u001b[1;33m\u001b[0m\u001b[0m\n\u001b[0;32m    461\u001b[0m     \u001b[1;32mdef\u001b[0m \u001b[0m_init_ndarray\u001b[0m\u001b[1;33m(\u001b[0m\u001b[0mself\u001b[0m\u001b[1;33m,\u001b[0m \u001b[0mvalues\u001b[0m\u001b[1;33m,\u001b[0m \u001b[0mindex\u001b[0m\u001b[1;33m,\u001b[0m \u001b[0mcolumns\u001b[0m\u001b[1;33m,\u001b[0m \u001b[0mdtype\u001b[0m\u001b[1;33m=\u001b[0m\u001b[1;32mNone\u001b[0m\u001b[1;33m,\u001b[0m \u001b[0mcopy\u001b[0m\u001b[1;33m=\u001b[0m\u001b[1;32mFalse\u001b[0m\u001b[1;33m)\u001b[0m\u001b[1;33m:\u001b[0m\u001b[1;33m\u001b[0m\u001b[0m\n",
      "\u001b[1;32m~\\AppData\\Local\\Continuum\\anaconda3\\lib\\site-packages\\pandas\\core\\frame.py\u001b[0m in \u001b[0;36m_arrays_to_mgr\u001b[1;34m(arrays, arr_names, index, columns, dtype)\u001b[0m\n\u001b[0;32m   7313\u001b[0m     \u001b[1;31m# figure out the index, if necessary\u001b[0m\u001b[1;33m\u001b[0m\u001b[1;33m\u001b[0m\u001b[0m\n\u001b[0;32m   7314\u001b[0m     \u001b[1;32mif\u001b[0m \u001b[0mindex\u001b[0m \u001b[1;32mis\u001b[0m \u001b[1;32mNone\u001b[0m\u001b[1;33m:\u001b[0m\u001b[1;33m\u001b[0m\u001b[0m\n\u001b[1;32m-> 7315\u001b[1;33m         \u001b[0mindex\u001b[0m \u001b[1;33m=\u001b[0m \u001b[0mextract_index\u001b[0m\u001b[1;33m(\u001b[0m\u001b[0marrays\u001b[0m\u001b[1;33m)\u001b[0m\u001b[1;33m\u001b[0m\u001b[0m\n\u001b[0m\u001b[0;32m   7316\u001b[0m \u001b[1;33m\u001b[0m\u001b[0m\n\u001b[0;32m   7317\u001b[0m     \u001b[1;31m# don't force copy because getting jammed in an ndarray anyway\u001b[0m\u001b[1;33m\u001b[0m\u001b[1;33m\u001b[0m\u001b[0m\n",
      "\u001b[1;32m~\\AppData\\Local\\Continuum\\anaconda3\\lib\\site-packages\\pandas\\core\\frame.py\u001b[0m in \u001b[0;36mextract_index\u001b[1;34m(data)\u001b[0m\n\u001b[0;32m   7369\u001b[0m                     msg = ('array length %d does not match index length %d' %\n\u001b[0;32m   7370\u001b[0m                            (lengths[0], len(index)))\n\u001b[1;32m-> 7371\u001b[1;33m                     \u001b[1;32mraise\u001b[0m \u001b[0mValueError\u001b[0m\u001b[1;33m(\u001b[0m\u001b[0mmsg\u001b[0m\u001b[1;33m)\u001b[0m\u001b[1;33m\u001b[0m\u001b[0m\n\u001b[0m\u001b[0;32m   7372\u001b[0m             \u001b[1;32melse\u001b[0m\u001b[1;33m:\u001b[0m\u001b[1;33m\u001b[0m\u001b[0m\n\u001b[0;32m   7373\u001b[0m                 \u001b[0mindex\u001b[0m \u001b[1;33m=\u001b[0m \u001b[0mcom\u001b[0m\u001b[1;33m.\u001b[0m\u001b[0m_default_index\u001b[0m\u001b[1;33m(\u001b[0m\u001b[0mlengths\u001b[0m\u001b[1;33m[\u001b[0m\u001b[1;36m0\u001b[0m\u001b[1;33m]\u001b[0m\u001b[1;33m)\u001b[0m\u001b[1;33m\u001b[0m\u001b[0m\n",
      "\u001b[1;31mValueError\u001b[0m: array length 183 does not match index length 184"
     ]
    }
   ],
   "source": [
    "fixed = pd.read_csv(\"{0}\\\\country_names_for_checking.csv\".format(data_folder),header=None,encoding=\"ISO-8859-1\")\n",
    "      \n",
    "d = {'New':fixed[1],'Old':source_names}\n",
    "cross_ref =pd.DataFrame(d)\n",
    "\n",
    "cross_ref.head()"
   ]
  },
  {
   "cell_type": "markdown",
   "metadata": {},
   "source": [
    "Replace survey dataset country names with correct country names. "
   ]
  },
  {
   "cell_type": "code",
   "execution_count": 22,
   "metadata": {},
   "outputs": [],
   "source": [
    "\n",
    "values = values.join(cross_ref.set_index('Old'), on='Country')\n",
    "values = values.rename(index=str, columns={\"New\": \"Country_Name\"})\n"
   ]
  },
  {
   "cell_type": "code",
   "execution_count": 23,
   "metadata": {},
   "outputs": [
    {
     "ename": "ValueError",
     "evalue": "The column label 'Country_Name' is not unique.",
     "output_type": "error",
     "traceback": [
      "\u001b[1;31m---------------------------------------------------------------------------\u001b[0m",
      "\u001b[1;31mValueError\u001b[0m                                Traceback (most recent call last)",
      "\u001b[1;32m<ipython-input-23-b40665dbbe9f>\u001b[0m in \u001b[0;36m<module>\u001b[1;34m()\u001b[0m\n\u001b[0;32m      2\u001b[0m \u001b[1;33m\u001b[0m\u001b[0m\n\u001b[0;32m      3\u001b[0m \u001b[1;33m\u001b[0m\u001b[0m\n\u001b[1;32m----> 4\u001b[1;33m \u001b[0mvalues\u001b[0m \u001b[1;33m=\u001b[0m \u001b[0mvalues\u001b[0m\u001b[1;33m.\u001b[0m\u001b[0mjoin\u001b[0m\u001b[1;33m(\u001b[0m\u001b[0mcountry_mapping\u001b[0m\u001b[1;33m.\u001b[0m\u001b[0mset_index\u001b[0m\u001b[1;33m(\u001b[0m\u001b[1;34m'name'\u001b[0m\u001b[1;33m)\u001b[0m\u001b[1;33m,\u001b[0m \u001b[0mon\u001b[0m\u001b[1;33m=\u001b[0m\u001b[1;34m'Country_Name'\u001b[0m\u001b[1;33m)\u001b[0m\u001b[1;33m\u001b[0m\u001b[0m\n\u001b[0m\u001b[0;32m      5\u001b[0m \u001b[1;33m\u001b[0m\u001b[0m\n\u001b[0;32m      6\u001b[0m \u001b[0mprint\u001b[0m\u001b[1;33m(\u001b[0m\u001b[0mvalues\u001b[0m\u001b[1;33m[\u001b[0m\u001b[1;34m\"Country_Name\"\u001b[0m\u001b[1;33m]\u001b[0m\u001b[1;33m.\u001b[0m\u001b[0mvalue_counts\u001b[0m\u001b[1;33m(\u001b[0m\u001b[1;33m)\u001b[0m\u001b[1;33m)\u001b[0m\u001b[1;33m\u001b[0m\u001b[0m\n",
      "\u001b[1;32m~\\AppData\\Local\\Continuum\\anaconda3\\lib\\site-packages\\pandas\\core\\frame.py\u001b[0m in \u001b[0;36mjoin\u001b[1;34m(self, other, on, how, lsuffix, rsuffix, sort)\u001b[0m\n\u001b[0;32m   6324\u001b[0m         \u001b[1;31m# For SparseDataFrame's benefit\u001b[0m\u001b[1;33m\u001b[0m\u001b[1;33m\u001b[0m\u001b[0m\n\u001b[0;32m   6325\u001b[0m         return self._join_compat(other, on=on, how=how, lsuffix=lsuffix,\n\u001b[1;32m-> 6326\u001b[1;33m                                  rsuffix=rsuffix, sort=sort)\n\u001b[0m\u001b[0;32m   6327\u001b[0m \u001b[1;33m\u001b[0m\u001b[0m\n\u001b[0;32m   6328\u001b[0m     def _join_compat(self, other, on=None, how='left', lsuffix='', rsuffix='',\n",
      "\u001b[1;32m~\\AppData\\Local\\Continuum\\anaconda3\\lib\\site-packages\\pandas\\core\\frame.py\u001b[0m in \u001b[0;36m_join_compat\u001b[1;34m(self, other, on, how, lsuffix, rsuffix, sort)\u001b[0m\n\u001b[0;32m   6339\u001b[0m             return merge(self, other, left_on=on, how=how,\n\u001b[0;32m   6340\u001b[0m                          \u001b[0mleft_index\u001b[0m\u001b[1;33m=\u001b[0m\u001b[0mon\u001b[0m \u001b[1;32mis\u001b[0m \u001b[1;32mNone\u001b[0m\u001b[1;33m,\u001b[0m \u001b[0mright_index\u001b[0m\u001b[1;33m=\u001b[0m\u001b[1;32mTrue\u001b[0m\u001b[1;33m,\u001b[0m\u001b[1;33m\u001b[0m\u001b[0m\n\u001b[1;32m-> 6341\u001b[1;33m                          suffixes=(lsuffix, rsuffix), sort=sort)\n\u001b[0m\u001b[0;32m   6342\u001b[0m         \u001b[1;32melse\u001b[0m\u001b[1;33m:\u001b[0m\u001b[1;33m\u001b[0m\u001b[0m\n\u001b[0;32m   6343\u001b[0m             \u001b[1;32mif\u001b[0m \u001b[0mon\u001b[0m \u001b[1;32mis\u001b[0m \u001b[1;32mnot\u001b[0m \u001b[1;32mNone\u001b[0m\u001b[1;33m:\u001b[0m\u001b[1;33m\u001b[0m\u001b[0m\n",
      "\u001b[1;32m~\\AppData\\Local\\Continuum\\anaconda3\\lib\\site-packages\\pandas\\core\\reshape\\merge.py\u001b[0m in \u001b[0;36mmerge\u001b[1;34m(left, right, how, on, left_on, right_on, left_index, right_index, sort, suffixes, copy, indicator, validate)\u001b[0m\n\u001b[0;32m     58\u001b[0m                          \u001b[0mright_index\u001b[0m\u001b[1;33m=\u001b[0m\u001b[0mright_index\u001b[0m\u001b[1;33m,\u001b[0m \u001b[0msort\u001b[0m\u001b[1;33m=\u001b[0m\u001b[0msort\u001b[0m\u001b[1;33m,\u001b[0m \u001b[0msuffixes\u001b[0m\u001b[1;33m=\u001b[0m\u001b[0msuffixes\u001b[0m\u001b[1;33m,\u001b[0m\u001b[1;33m\u001b[0m\u001b[0m\n\u001b[0;32m     59\u001b[0m                          \u001b[0mcopy\u001b[0m\u001b[1;33m=\u001b[0m\u001b[0mcopy\u001b[0m\u001b[1;33m,\u001b[0m \u001b[0mindicator\u001b[0m\u001b[1;33m=\u001b[0m\u001b[0mindicator\u001b[0m\u001b[1;33m,\u001b[0m\u001b[1;33m\u001b[0m\u001b[0m\n\u001b[1;32m---> 60\u001b[1;33m                          validate=validate)\n\u001b[0m\u001b[0;32m     61\u001b[0m     \u001b[1;32mreturn\u001b[0m \u001b[0mop\u001b[0m\u001b[1;33m.\u001b[0m\u001b[0mget_result\u001b[0m\u001b[1;33m(\u001b[0m\u001b[1;33m)\u001b[0m\u001b[1;33m\u001b[0m\u001b[0m\n\u001b[0;32m     62\u001b[0m \u001b[1;33m\u001b[0m\u001b[0m\n",
      "\u001b[1;32m~\\AppData\\Local\\Continuum\\anaconda3\\lib\\site-packages\\pandas\\core\\reshape\\merge.py\u001b[0m in \u001b[0;36m__init__\u001b[1;34m(self, left, right, how, on, left_on, right_on, axis, left_index, right_index, sort, suffixes, copy, indicator, validate)\u001b[0m\n\u001b[0;32m    548\u001b[0m         (self.left_join_keys,\n\u001b[0;32m    549\u001b[0m          \u001b[0mself\u001b[0m\u001b[1;33m.\u001b[0m\u001b[0mright_join_keys\u001b[0m\u001b[1;33m,\u001b[0m\u001b[1;33m\u001b[0m\u001b[0m\n\u001b[1;32m--> 550\u001b[1;33m          self.join_names) = self._get_merge_keys()\n\u001b[0m\u001b[0;32m    551\u001b[0m \u001b[1;33m\u001b[0m\u001b[0m\n\u001b[0;32m    552\u001b[0m         \u001b[1;31m# validate the merge keys dtypes. We may need to coerce\u001b[0m\u001b[1;33m\u001b[0m\u001b[1;33m\u001b[0m\u001b[0m\n",
      "\u001b[1;32m~\\AppData\\Local\\Continuum\\anaconda3\\lib\\site-packages\\pandas\\core\\reshape\\merge.py\u001b[0m in \u001b[0;36m_get_merge_keys\u001b[1;34m(self)\u001b[0m\n\u001b[0;32m    881\u001b[0m                 \u001b[1;32melse\u001b[0m\u001b[1;33m:\u001b[0m\u001b[1;33m\u001b[0m\u001b[0m\n\u001b[0;32m    882\u001b[0m                     left_keys.append(left._get_label_or_level_values(\n\u001b[1;32m--> 883\u001b[1;33m                         k, stacklevel=stacklevel))\n\u001b[0m\u001b[0;32m    884\u001b[0m                     \u001b[0mjoin_names\u001b[0m\u001b[1;33m.\u001b[0m\u001b[0mappend\u001b[0m\u001b[1;33m(\u001b[0m\u001b[0mk\u001b[0m\u001b[1;33m)\u001b[0m\u001b[1;33m\u001b[0m\u001b[0m\n\u001b[0;32m    885\u001b[0m             \u001b[1;32mif\u001b[0m \u001b[0misinstance\u001b[0m\u001b[1;33m(\u001b[0m\u001b[0mself\u001b[0m\u001b[1;33m.\u001b[0m\u001b[0mright\u001b[0m\u001b[1;33m.\u001b[0m\u001b[0mindex\u001b[0m\u001b[1;33m,\u001b[0m \u001b[0mMultiIndex\u001b[0m\u001b[1;33m)\u001b[0m\u001b[1;33m:\u001b[0m\u001b[1;33m\u001b[0m\u001b[0m\n",
      "\u001b[1;32m~\\AppData\\Local\\Continuum\\anaconda3\\lib\\site-packages\\pandas\\core\\generic.py\u001b[0m in \u001b[0;36m_get_label_or_level_values\u001b[1;34m(self, key, axis, stacklevel)\u001b[0m\n\u001b[0;32m   1396\u001b[0m                              .format(key=key,\n\u001b[0;32m   1397\u001b[0m                                      \u001b[0mlabel_axis_name\u001b[0m\u001b[1;33m=\u001b[0m\u001b[0mlabel_axis_name\u001b[0m\u001b[1;33m,\u001b[0m\u001b[1;33m\u001b[0m\u001b[0m\n\u001b[1;32m-> 1398\u001b[1;33m                                      multi_message=multi_message))\n\u001b[0m\u001b[0;32m   1399\u001b[0m \u001b[1;33m\u001b[0m\u001b[0m\n\u001b[0;32m   1400\u001b[0m         \u001b[1;32mreturn\u001b[0m \u001b[0mvalues\u001b[0m\u001b[1;33m\u001b[0m\u001b[0m\n",
      "\u001b[1;31mValueError\u001b[0m: The column label 'Country_Name' is not unique."
     ]
    }
   ],
   "source": [
    "# Join region labels to survey data by country name\n",
    "\n",
    "\n",
    "values = values.join(country_mapping.set_index('name'), on='Country_Name')\n",
    "\n",
    "print(values[\"Country_Name\"].value_counts())\n"
   ]
  }
 ],
 "metadata": {
  "kernelspec": {
   "display_name": "Python 3",
   "language": "python",
   "name": "python3"
  },
  "language_info": {
   "codemirror_mode": {
    "name": "ipython",
    "version": 3
   },
   "file_extension": ".py",
   "mimetype": "text/x-python",
   "name": "python",
   "nbconvert_exporter": "python",
   "pygments_lexer": "ipython3",
   "version": "3.6.5"
  }
 },
 "nbformat": 4,
 "nbformat_minor": 2
}
