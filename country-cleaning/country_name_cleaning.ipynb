{
 "cells": [
  {
   "cell_type": "markdown",
   "metadata": {},
   "source": [
    "Online Developer Community Survey Data\n",
    "\n",
    "By Michael A. Madaio, for the United Nations University, Institute on Computing and Society\n",
    "<br> August, 2018"
   ]
  },
  {
   "cell_type": "markdown",
   "metadata": {},
   "source": [
    "## Overview\n",
    "\n",
    "Online developer communities boast millions of users - over 29 million on GitHub and over 8 million on Stack Overflow, in 2018. Participation in these communities is becoming one of the primary ways software developers learn new programming languages, improve their skills, develop collaborative projects, and find new job opportunities. [[1]](David and Shapiro, 2008) [[2]](Ford et al., 2016) [[3]](Vasilescu et al., 2015)  \n",
    "\n",
    "Developers on these sites may ask and answer coding questions to improve their skills (e.g. Stack Overflow), use those skills to contribute to open-source code (e.g. GitHub) and participate in coding challenges (e.g. HackerRank). These platforms are becoming increasingly important to hiring decisions, as recruiters look at GitHub contributions or reputation on Stack Overflow as indicators of developers' skill.\n",
    "\n",
    "However, despite the promise for these online developer communities to support software developers in their professional development, there are indicators that there may be serious difference in women and men's participation in these communities - differences which may further exacerbate existing gender gaps in the ICT workforce writ large."
   ]
  },
  {
   "cell_type": "markdown",
   "metadata": {},
   "source": [
    "## Usage\n",
    "\n",
    "In this notebook, we provide functions for cleaning country names from surveys to standardize them with the ISO code. Many data sources use idiosyncratic country names, which makes joining with the ISO codes to use other regional data difficult. This notebook provides a process for cleaning the source data's country names using a \"fuzzy\" string matching with the ISO country names using Levenshtein distance.  \n",
    "\n",
    "If you're running this in a Jupyter interface, click on each code block and press ctrl+Enter to run the code in it.  \n",
    "\n",
    "Before each code block are text instructions that explain what those lines of code do."
   ]
  },
  {
   "cell_type": "markdown",
   "metadata": {},
   "source": [
    "## 1. Setup"
   ]
  },
  {
   "cell_type": "markdown",
   "metadata": {},
   "source": [
    "These lines hide the code blocks with a toggle button to display them."
   ]
  },
  {
   "cell_type": "raw",
   "metadata": {},
   "source": [
    "<script>\n",
    "  function code_toggle() {\n",
    "    if (code_shown){\n",
    "      $('div.input').hide('500');\n",
    "      $('#toggleButton').val('Show Code')\n",
    "    } else {\n",
    "      $('div.input').show('500');\n",
    "      $('#toggleButton').val('Hide Code')\n",
    "    }\n",
    "    code_shown = !code_shown\n",
    "  }\n",
    "\n",
    "  $( document ).ready(function(){\n",
    "    code_shown=false;\n",
    "    $('div.input').hide()\n",
    "  });\n",
    "</script>\n",
    "<form action=\"javascript:code_toggle()\"><input type=\"submit\" id=\"toggleButton\" value=\"Show Code\"></form>"
   ]
  },
  {
   "cell_type": "markdown",
   "metadata": {},
   "source": [
    "These lines import the necessary package dependencies."
   ]
  },
  {
   "cell_type": "code",
   "execution_count": 56,
   "metadata": {},
   "outputs": [
    {
     "data": {
      "text/html": [
       "<script>requirejs.config({paths: { 'plotly': ['https://cdn.plot.ly/plotly-latest.min']},});if(!window.Plotly) {{require(['plotly'],function(plotly) {window.Plotly=plotly;});}}</script>"
      ],
      "text/vnd.plotly.v1+html": [
       "<script>requirejs.config({paths: { 'plotly': ['https://cdn.plot.ly/plotly-latest.min']},});if(!window.Plotly) {{require(['plotly'],function(plotly) {window.Plotly=plotly;});}}</script>"
      ]
     },
     "metadata": {},
     "output_type": "display_data"
    }
   ],
   "source": [
    "import pandas as pd\n",
    "import numpy as np\n",
    "import os\n",
    "import csv\n",
    "import matplotlib.pyplot as plt\n",
    "import pandas.tools.plotting\n",
    "import seaborn as sns\n",
    "import matplotlib\n",
    "%matplotlib inline\n",
    "\n",
    "# Install \"fuzzywuzzy\" and \"python-Levenshtein\" using pip install\n",
    "from fuzzywuzzy import fuzz\n",
    "from fuzzywuzzy import process\n",
    "\n",
    "plt.style.use('seaborn')\n",
    "\n",
    "\n",
    "import plotly.offline as offline\n",
    "offline.init_notebook_mode(True)\n",
    "import plotly.graph_objs as go\n",
    "#plt.style.use('ggplot')\n",
    "pd.options.display.max_rows =300\n",
    "plt.rc('ytick',labelsize=12)\n",
    "plt.rc('ytick',labelsize=12)\n",
    "plt.rc('axes',labelsize=12)"
   ]
  },
  {
   "cell_type": "markdown",
   "metadata": {},
   "source": [
    "### 1.1. Load data"
   ]
  },
  {
   "cell_type": "markdown",
   "metadata": {},
   "source": [
    "Define your input .csv file name here:"
   ]
  },
  {
   "cell_type": "code",
   "execution_count": 57,
   "metadata": {},
   "outputs": [],
   "source": [
    "# Define source file name here\n",
    "\n",
    "source_file = \"survey_results_public.csv\""
   ]
  },
  {
   "cell_type": "markdown",
   "metadata": {},
   "source": [
    "Run this block to load the data.\n",
    "\n",
    "Make sure the input csv file is saved to the data folder.  \n",
    "Make sure the country/region mapping csv (found [here](https://github.com/lukes/ISO-3166-Countries-with-Regional-Codes/blob/master/all/all.csv)) is saved to the data folder as well."
   ]
  },
  {
   "cell_type": "code",
   "execution_count": 69,
   "metadata": {},
   "outputs": [],
   "source": [
    "data_folder = os.path.abspath('.\\\\data')\n",
    "\n",
    "# Load source file\n",
    "values = pd.read_csv('{0}\\{1}'.format(data_folder, source_file), na_values=['#NULL!', 'nan'], low_memory=False)\n",
    "\n",
    "# Load Country-Region data\n",
    "country_mapping = pd.read_csv('{0}\\Country-Region-Mapping.csv'.format(data_folder),encoding='latin-1')"
   ]
  },
  {
   "cell_type": "markdown",
   "metadata": {},
   "source": [
    "### 1.1. Preview data"
   ]
  },
  {
   "cell_type": "markdown",
   "metadata": {},
   "source": [
    "Preview column headers and sample values.   \n",
    "Uncomment the print statements by deleting the # in front of the word print to run this block and see a (lengthy) preview of the data."
   ]
  },
  {
   "cell_type": "code",
   "execution_count": 59,
   "metadata": {},
   "outputs": [
    {
     "name": "stdout",
     "output_type": "stream",
     "text": [
      "Total respondents: 98855 \n",
      "\n"
     ]
    }
   ],
   "source": [
    "## Print number of respondents\n",
    "print(\"Total respondents:\", len(values), \"\\n\")\n",
    "\n",
    "## Print example values for columns\n",
    "#print(values.head())\n",
    "\n",
    "## Print list of column names\n",
    "#print(values.columns.ravel())\n",
    "\n",
    "## Print all columns\n",
    "#values[0:3].transpose()"
   ]
  },
  {
   "cell_type": "markdown",
   "metadata": {},
   "source": [
    "### 1.2. Clean country names"
   ]
  },
  {
   "cell_type": "markdown",
   "metadata": {},
   "source": [
    "Run this block to define the function created to match country names."
   ]
  },
  {
   "cell_type": "code",
   "execution_count": 60,
   "metadata": {},
   "outputs": [],
   "source": [
    "# Define function to check input names against ISO names\n",
    "\n",
    "names_array=[]\n",
    "ratio_array=[]\n",
    "\n",
    "def match_names(input_names,correct_names):\n",
    "    for row in input_names:\n",
    "        x=process.extractOne(row, correct_names)\n",
    "        names_array.append(x[0])\n",
    "        ratio_array.append(x[1])\n",
    "    return names_array,ratio_array\n"
   ]
  },
  {
   "cell_type": "markdown",
   "metadata": {},
   "source": [
    "Run this block first to define the name of your country variable in your source data"
   ]
  },
  {
   "cell_type": "code",
   "execution_count": 61,
   "metadata": {},
   "outputs": [],
   "source": [
    "# Change this to be the name of your country name column:\n",
    "\n",
    "country_column_name = \"Country\""
   ]
  },
  {
   "cell_type": "markdown",
   "metadata": {},
   "source": [
    "Run this block first to store the list of unique country names from your source data set."
   ]
  },
  {
   "cell_type": "code",
   "execution_count": 62,
   "metadata": {},
   "outputs": [],
   "source": [
    "# Create a list of unique country names from source dataset\n",
    "source_names=values[country_column_name].dropna().unique()\n",
    "\n",
    "# Create a list of country names from ISO dataset\n",
    "correct_names=country_mapping['name'].values"
   ]
  },
  {
   "cell_type": "markdown",
   "metadata": {},
   "source": [
    "Run this block to create a list of the name matches, with the ratio of their match (i.e. how \"close\" a match they are. Higher is a closer match)."
   ]
  },
  {
   "cell_type": "code",
   "execution_count": 63,
   "metadata": {},
   "outputs": [
    {
     "name": "stdout",
     "output_type": "stream",
     "text": [
      "You have 183 country names.\n"
     ]
    }
   ],
   "source": [
    "name_match, ratio_match = match_names(source_names,correct_names)\n",
    "\n",
    "# Check to make sure the list of unique names in the name match is the same as the list of unique countries in the source list. \n",
    "# That is, there should be at least one matched name from ISO for each country name in your source data.\n",
    "\n",
    "if len(name_match) != len(source_names):\n",
    "    print(len(name_match))\n",
    "    print(len(source_names))\n",
    "    print(\"Error: Different numbers of unique country names. Re-run code and inspect the .csv's if you continue to get this error.\")\n",
    "else:\n",
    "    print(\"You have\", len(name_match), \"country names.\")\n"
   ]
  },
  {
   "cell_type": "code",
   "execution_count": 64,
   "metadata": {},
   "outputs": [
    {
     "name": "stdout",
     "output_type": "stream",
     "text": [
      "['Kenya', 'United Kingdom of Great Britain and Northern Ireland', 'United States of America', 'South Africa', 'Nigeria', 'India', 'Spain', 'Croatia', 'Netherlands', 'Israel', 'Sweden', 'Chile', 'Australia', 'Greece', 'Poland', 'Belgium', 'Argentina', 'Germany', 'Russian Federation', 'Indonesia', 'Ireland', 'France', 'Ukraine', 'Denmark', 'Dominican Republic', 'China', 'Latvia', 'Algeria', 'Colombia', 'Japan', 'Finland', 'Romania', 'Brazil', 'Bulgaria', 'Iran (Islamic Republic of)', 'Nepal', 'Bangladesh', 'Pakistan', 'Canada', 'Jordan', 'Portugal', 'Italy', 'New Zealand', 'Turkey', 'Central African Republic', 'Viet Nam', 'Austria', 'Egypt', 'Malaysia', 'Mozambique', 'Thailand', 'Slovakia', 'Lebanon', 'Mexico', 'Hong Kong', 'Norway', 'Myanmar', 'Switzerland', \"Korea (Democratic People's Republic of)\", 'Hungary', 'Armenia', 'Kazakhstan', 'United Arab Emirates', 'Singapore', 'Qatar', 'Bosnia and Herzegovina', 'Bahrain', 'Sri Lanka', 'Cambodia', 'Serbia', 'Philippines', 'Peru', 'Botswana', 'Paraguay', 'Georgia', 'Uruguay', 'Belarus', 'Lithuania', 'Afghanistan', 'Estonia', 'Malta', 'Costa Rica', 'Ghana', 'Taiwan, Province of China', 'Morocco', 'Albania', 'Saudi Arabia', 'Slovenia', 'Uzbekistan', 'Korea (Republic of)', 'El Salvador', 'Iceland', 'Venezuela (Bolivarian Republic of)', 'Nicaragua', 'Sweden', 'Tunisia', 'Macedonia (the former Yugoslav Republic of)', 'Micronesia (Federated States of)', 'Madagascar', 'Rwanda', 'Yemen', 'Uganda', 'Tanzania, United Republic of', 'Cameroon', 'Cuba', 'Ethiopia', 'Oman', 'Ecuador', 'Angola', 'Moldova (Republic of)', 'Honduras', 'Azerbaijan', 'Cyprus', 'Bhutan', 'Guatemala', 'Syrian Arab Republic', 'Kuwait', 'Luxembourg', 'Jamaica', 'Zimbabwe', 'San Marino', 'Fiji', 'Liechtenstein', 'Burundi', 'Bolivia (Plurinational State of)', 'Mauritius', 'Somalia', 'Montenegro', 'Mongolia', 'Sudan', 'Maldives', 'Turkmenistan', 'Panama', 'Barbados', 'Lesotho', 'Namibia', 'Gabon', 'Kyrgyzstan', 'Swaziland', 'Antigua and Barbuda', 'Marshall Islands', 'Trinidad and Tobago', 'Senegal', 'Iraq', 'Haiti', 'Malawi', 'Benin', 'Libya', 'Tajikistan', 'Congo (Democratic Republic of the)', 'Andorra', 'Guinea', \"Côte d'Ivoire\", 'Bahamas', 'Central African Republic', 'Monaco', 'Gambia', 'Sierra Leone', 'Togo', 'Palau', 'Zambia', 'Grenada', 'Burkina Faso', 'Belize', 'Congo', 'Suriname', 'Timor-Leste', 'Dominica', 'Solomon Islands', 'Saint Lucia', 'Niger', 'Guyana', 'Nauru', 'Mauritania', 'Mali', 'Liberia', 'Brunei Darussalam', \"Korea (Democratic People's Republic of)\", 'Cabo Verde', 'Eritrea', \"Korea (Democratic People's Republic of)\", 'Djibouti', 'Guinea-Bissau'] ['Kenya' 'United Kingdom' 'United States' 'South Africa' 'Nigeria' 'India'\n",
      " 'Spain' 'Croatia' 'Netherlands' 'Israel' 'Sweden' 'Chile' 'Australia'\n",
      " 'Greece' 'Poland' 'Belgium' 'Argentina' 'Germany' 'Russian Federation'\n",
      " 'Indonesia' 'Ireland' 'France' 'Ukraine' 'Denmark' 'Dominican Republic'\n",
      " 'China' 'Latvia' 'Algeria' 'Colombia' 'Japan' 'Finland' 'Romania'\n",
      " 'Brazil' 'Bulgaria' 'Iran, Islamic Republic of...' 'Nepal' 'Bangladesh'\n",
      " 'Pakistan' 'Canada' 'Jordan' 'Portugal' 'Italy' 'New Zealand' 'Turkey'\n",
      " 'Czech Republic' 'Viet Nam' 'Austria' 'Egypt' 'Malaysia' 'Mozambique'\n",
      " 'Thailand' 'Slovakia' 'Lebanon' 'Mexico' 'Hong Kong (S.A.R.)' 'Norway'\n",
      " 'Myanmar' 'Switzerland' 'South Korea' 'Hungary' 'Armenia' 'Kazakhstan'\n",
      " 'United Arab Emirates' 'Singapore' 'Qatar' 'Bosnia and Herzegovina'\n",
      " 'Bahrain' 'Sri Lanka' 'Cambodia' 'Serbia' 'Philippines' 'Peru' 'Botswana'\n",
      " 'Paraguay' 'Georgia' 'Uruguay' 'Belarus' 'Lithuania' 'Afghanistan'\n",
      " 'Estonia' 'Malta' 'Costa Rica' 'Ghana' 'Taiwan' 'Morocco' 'Albania'\n",
      " 'Saudi Arabia' 'Slovenia' 'Uzbekistan' 'Republic of Korea' 'El Salvador'\n",
      " 'Iceland' 'Venezuela, Bolivarian Republic of...' 'Nicaragua'\n",
      " 'Other Country (Not Listed Above)' 'Tunisia'\n",
      " 'The former Yugoslav Republic of Macedonia'\n",
      " 'Micronesia, Federated States of...' 'Madagascar' 'Rwanda' 'Yemen'\n",
      " 'Uganda' 'United Republic of Tanzania' 'Cameroon' 'Cuba' 'Ethiopia'\n",
      " 'Oman' 'Ecuador' 'Angola' 'Republic of Moldova' 'Honduras' 'Azerbaijan'\n",
      " 'Cyprus' 'Bhutan' 'Guatemala' 'Syrian Arab Republic' 'Kuwait'\n",
      " 'Luxembourg' 'Jamaica' 'Zimbabwe' 'San Marino' 'Fiji' 'Liechtenstein'\n",
      " 'Burundi' 'Bolivia' 'Mauritius' 'Somalia' 'Montenegro' 'Mongolia' 'Sudan'\n",
      " 'Maldives' 'Turkmenistan' 'Panama' 'Barbados' 'Lesotho' 'Namibia' 'Gabon'\n",
      " 'Kyrgyzstan' 'Swaziland' 'Antigua and Barbuda' 'Marshall Islands'\n",
      " 'Trinidad and Tobago' 'Senegal' 'Iraq' 'Haiti' 'Malawi' 'Benin'\n",
      " 'Libyan Arab Jamahiriya' 'Tajikistan' 'Democratic Republic of the Congo'\n",
      " 'Andorra' 'Guinea' \"Côte d'Ivoire\" 'Bahamas' 'Central African Republic'\n",
      " 'Monaco' 'Gambia' 'Sierra Leone' 'Togo' 'Palau' 'Zambia' 'Grenada'\n",
      " 'Burkina Faso' 'Belize' 'Congo, Republic of the...' 'Suriname'\n",
      " 'Timor-Leste' 'Dominica' 'Solomon Islands' 'Saint Lucia' 'Niger' 'Guyana'\n",
      " 'Nauru' 'Mauritania' 'Mali' 'Liberia' 'Brunei Darussalam' 'North Korea'\n",
      " 'Cape Verde' 'Eritrea' \"Democratic People's Republic of Korea\" 'Djibouti'\n",
      " 'Guinea-Bissau']\n"
     ]
    }
   ],
   "source": [
    "print(name_match, source_names)"
   ]
  },
  {
   "cell_type": "markdown",
   "metadata": {},
   "source": [
    "Run this block to generate a .csv file with the source names (from your data), the ISO name it was matched with, and the % match.  \n",
    "Open this file and sort by % match to fix individual errors in country names (e.g. erroneously matching South Korea with Democratic People's Republic of Korea).  "
   ]
  },
  {
   "cell_type": "code",
   "execution_count": 65,
   "metadata": {},
   "outputs": [],
   "source": [
    "# Write an output .csv file with the source names, ISO names, and percent match between them\n",
    "\n",
    "# Define name of output file:\n",
    "output_file = \"country_names_for_checking.csv\"\n",
    "\n",
    "with open('{0}\\\\{1}'.format(data_folder, output_file), \"w\") as csv_file:\n",
    "        writer = csv.writer(csv_file, delimiter=',')\n",
    "        writer.writerow(['Source Names', 'ISO Names', '% Match'])\n",
    "        for i in range(0, len(source_names)):\n",
    "            writer.writerow([source_names[i],name_match[i],ratio_match[i]])"
   ]
  },
  {
   "cell_type": "markdown",
   "metadata": {},
   "source": [
    "Read fixed country names and store those in your source data frame:"
   ]
  },
  {
   "cell_type": "code",
   "execution_count": 66,
   "metadata": {},
   "outputs": [
    {
     "data": {
      "text/html": [
       "<div>\n",
       "<style scoped>\n",
       "    .dataframe tbody tr th:only-of-type {\n",
       "        vertical-align: middle;\n",
       "    }\n",
       "\n",
       "    .dataframe tbody tr th {\n",
       "        vertical-align: top;\n",
       "    }\n",
       "\n",
       "    .dataframe thead th {\n",
       "        text-align: right;\n",
       "    }\n",
       "</style>\n",
       "<table border=\"1\" class=\"dataframe\">\n",
       "  <thead>\n",
       "    <tr style=\"text-align: right;\">\n",
       "      <th></th>\n",
       "      <th>ISO Country Name</th>\n",
       "      <th>Original Country Name</th>\n",
       "    </tr>\n",
       "  </thead>\n",
       "  <tbody>\n",
       "    <tr>\n",
       "      <th>1</th>\n",
       "      <td>Kenya</td>\n",
       "      <td>Kenya</td>\n",
       "    </tr>\n",
       "    <tr>\n",
       "      <th>2</th>\n",
       "      <td>United Kingdom of Great Britain and Northern I...</td>\n",
       "      <td>United Kingdom</td>\n",
       "    </tr>\n",
       "    <tr>\n",
       "      <th>3</th>\n",
       "      <td>United States of America</td>\n",
       "      <td>United States</td>\n",
       "    </tr>\n",
       "    <tr>\n",
       "      <th>4</th>\n",
       "      <td>South Africa</td>\n",
       "      <td>South Africa</td>\n",
       "    </tr>\n",
       "    <tr>\n",
       "      <th>5</th>\n",
       "      <td>Nigeria</td>\n",
       "      <td>Nigeria</td>\n",
       "    </tr>\n",
       "  </tbody>\n",
       "</table>\n",
       "</div>"
      ],
      "text/plain": [
       "                                    ISO Country Name Original Country Name\n",
       "1                                              Kenya                 Kenya\n",
       "2  United Kingdom of Great Britain and Northern I...        United Kingdom\n",
       "3                           United States of America         United States\n",
       "4                                       South Africa          South Africa\n",
       "5                                            Nigeria               Nigeria"
      ]
     },
     "execution_count": 66,
     "metadata": {},
     "output_type": "execute_result"
    }
   ],
   "source": [
    "# Read that fixed .csv and show the comparison to original source names\n",
    "\n",
    "fixed = pd.read_csv(\"{0}\\\\{1}\".format(data_folder, output_file),header=None,encoding=\"ISO-8859-1\")\n",
    "      \n",
    "d = {'ISO Country Name':fixed[1][1:],'Original Country Name':source_names}\n",
    "cross_ref =pd.DataFrame(d)\n",
    "\n",
    "cross_ref.head()"
   ]
  },
  {
   "cell_type": "markdown",
   "metadata": {},
   "source": [
    "Replace survey dataset country names with correct country names. "
   ]
  },
  {
   "cell_type": "code",
   "execution_count": 67,
   "metadata": {},
   "outputs": [
    {
     "name": "stdout",
     "output_type": "stream",
     "text": [
      "United States of America                                20309\n",
      "India                                                   13721\n",
      "Germany                                                  6459\n",
      "United Kingdom of Great Britain and Northern Ireland     6221\n",
      "Canada                                                   3393\n",
      "Russian Federation                                       2869\n",
      "France                                                   2572\n",
      "Brazil                                                   2505\n",
      "Poland                                                   2122\n",
      "Australia                                                2018\n",
      "Netherlands                                              1841\n",
      "Spain                                                    1769\n",
      "Italy                                                    1535\n",
      "Ukraine                                                  1279\n",
      "Sweden                                                   1248\n",
      "Pakistan                                                 1050\n",
      "China                                                    1037\n",
      "Switzerland                                              1010\n",
      "Turkey                                                   1004\n",
      "Israel                                                   1003\n",
      "Iran (Islamic Republic of)                                921\n",
      "Romania                                                   793\n",
      "Austria                                                   788\n",
      "Central African Republic                                  786\n",
      "Belgium                                                   743\n",
      "Mexico                                                    736\n",
      "Bangladesh                                                697\n",
      "Denmark                                                   653\n",
      "South Africa                                              637\n",
      "Indonesia                                                 630\n",
      "Argentina                                                 611\n",
      "Norway                                                    565\n",
      "New Zealand                                               557\n",
      "Ireland                                                   554\n",
      "Portugal                                                  528\n",
      "Finland                                                   521\n",
      "Philippines                                               520\n",
      "Greece                                                    516\n",
      "Hungary                                                   470\n",
      "Sri Lanka                                                 454\n",
      "Bulgaria                                                  425\n",
      "Egypt                                                     419\n",
      "Nigeria                                                   399\n",
      "Singapore                                                 376\n",
      "Malaysia                                                  363\n",
      "Japan                                                     361\n",
      "Serbia                                                    358\n",
      "Colombia                                                  339\n",
      "Belarus                                                   339\n",
      "Viet Nam                                                  331\n",
      "Nepal                                                     295\n",
      "Lithuania                                                 257\n",
      "Croatia                                                   241\n",
      "Slovakia                                                  238\n",
      "Chile                                                     238\n",
      "Slovenia                                                  238\n",
      "Hong Kong                                                 219\n",
      "Thailand                                                  213\n",
      "Morocco                                                   213\n",
      "Taiwan, Province of China                                 207\n",
      "Kenya                                                     194\n",
      "United Arab Emirates                                      193\n",
      "Estonia                                                   189\n",
      "Korea (Democratic People's Republic of)                   175\n",
      "Tunisia                                                   163\n",
      "Latvia                                                    145\n",
      "Saudi Arabia                                              130\n",
      "Algeria                                                   130\n",
      "Peru                                                      128\n",
      "Bosnia and Herzegovina                                    125\n",
      "Venezuela (Bolivarian Republic of)                        123\n",
      "Armenia                                                   117\n",
      "Dominican Republic                                        115\n",
      "Albania                                                   109\n",
      "Kazakhstan                                                107\n",
      "Lebanon                                                   107\n",
      "Uruguay                                                   102\n",
      "Costa Rica                                                 98\n",
      "Jordan                                                     83\n",
      "Azerbaijan                                                 78\n",
      "Moldova (Republic of)                                      76\n",
      "Ghana                                                      76\n",
      "Georgia                                                    75\n",
      "Uganda                                                     67\n",
      "Malta                                                      66\n",
      "Ecuador                                                    65\n",
      "Cuba                                                       65\n",
      "Afghanistan                                                64\n",
      "Korea (Republic of)                                        62\n",
      "Ethiopia                                                   60\n",
      "Cambodia                                                   60\n",
      "Luxembourg                                                 59\n",
      "Syrian Arab Republic                                       56\n",
      "Uzbekistan                                                 56\n",
      "Myanmar                                                    55\n",
      "Macedonia (the former Yugoslav Republic of)                54\n",
      "Guatemala                                                  50\n",
      "Cyprus                                                     49\n",
      "Tanzania, United Republic of                               49\n",
      "Paraguay                                                   49\n",
      "El Salvador                                                46\n",
      "Iceland                                                    45\n",
      "Bolivia (Plurinational State of)                           44\n",
      "Iraq                                                       42\n",
      "Zimbabwe                                                   39\n",
      "Mauritius                                                  35\n",
      "Cameroon                                                   34\n",
      "Panama                                                     32\n",
      "Nicaragua                                                  31\n",
      "Honduras                                                   25\n",
      "Sudan                                                      25\n",
      "Kuwait                                                     23\n",
      "Qatar                                                      23\n",
      "Kyrgyzstan                                                 22\n",
      "Mongolia                                                   21\n",
      "Mozambique                                                 21\n",
      "Oman                                                       20\n",
      "Jamaica                                                    20\n",
      "Trinidad and Tobago                                        20\n",
      "Madagascar                                                 19\n",
      "Rwanda                                                     18\n",
      "Bahrain                                                    16\n",
      "Montenegro                                                 15\n",
      "Andorra                                                    15\n",
      "Libya                                                      14\n",
      "Yemen                                                      13\n",
      "Senegal                                                    13\n",
      "Angola                                                     11\n",
      "Somalia                                                    10\n",
      "Maldives                                                   10\n",
      "Benin                                                      10\n",
      "Antigua and Barbuda                                         9\n",
      "Zambia                                                      9\n",
      "Malawi                                                      9\n",
      "Fiji                                                        8\n",
      "Haiti                                                       8\n",
      "Congo (Democratic Republic of the)                          7\n",
      "Côte d'Ivoire                                               7\n",
      "Turkmenistan                                                6\n",
      "Namibia                                                     6\n",
      "Bhutan                                                      6\n",
      "Bahamas                                                     6\n",
      "Congo                                                       6\n",
      "Togo                                                        5\n",
      "Burkina Faso                                                5\n",
      "Gabon                                                       5\n",
      "Liechtenstein                                               5\n",
      "Gambia                                                      5\n",
      "Monaco                                                      4\n",
      "Botswana                                                    4\n",
      "Tajikistan                                                  4\n",
      "Barbados                                                    4\n",
      "Swaziland                                                   3\n",
      "Liberia                                                     3\n",
      "Cabo Verde                                                  3\n",
      "Mauritania                                                  3\n",
      "Guinea                                                      3\n",
      "Lesotho                                                     2\n",
      "Micronesia (Federated States of)                            2\n",
      "Suriname                                                    2\n",
      "Marshall Islands                                            2\n",
      "Guyana                                                      2\n",
      "Palau                                                       2\n",
      "Niger                                                       2\n",
      "Dominica                                                    2\n",
      "Mali                                                        1\n",
      "Saint Lucia                                                 1\n",
      "Djibouti                                                    1\n",
      "San Marino                                                  1\n",
      "Brunei Darussalam                                           1\n",
      "Belize                                                      1\n",
      "Burundi                                                     1\n",
      "Sierra Leone                                                1\n",
      "Eritrea                                                     1\n",
      "Timor-Leste                                                 1\n",
      "Grenada                                                     1\n",
      "Nauru                                                       1\n",
      "Solomon Islands                                             1\n",
      "Guinea-Bissau                                               1\n",
      "Name: Country_Name, dtype: int64\n"
     ]
    }
   ],
   "source": [
    "# Creates a new column with the value for each row\n",
    "\n",
    "# Define name of new column\n",
    "new_country_column_name = \"Country_Name\"\n",
    "\n",
    "values = values.join(cross_ref.set_index('Original Country Name'), on=country_column_name)\n",
    "values = values.rename(index=str, columns={\"ISO Country Name\": new_country_column_name})  \n",
    "\n",
    "# Join ISO labels to source data by country name\n",
    "values = values.join(country_mapping.set_index('name'), on=new_country_column_name)\n",
    "\n",
    "# Print the number of items for each country in your data\n",
    "print(values[new_country_column_name].value_counts())\n"
   ]
  }
 ],
 "metadata": {
  "kernelspec": {
   "display_name": "Python 3",
   "language": "python",
   "name": "python3"
  },
  "language_info": {
   "codemirror_mode": {
    "name": "ipython",
    "version": 3
   },
   "file_extension": ".py",
   "mimetype": "text/x-python",
   "name": "python",
   "nbconvert_exporter": "python",
   "pygments_lexer": "ipython3",
   "version": "3.6.5"
  }
 },
 "nbformat": 4,
 "nbformat_minor": 2
}
